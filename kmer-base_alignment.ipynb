{
 "cells": [
  {
   "cell_type": "code",
   "execution_count": 1,
   "metadata": {},
   "outputs": [],
   "source": [
    "import HTSeq\n",
    "import pandas"
   ]
  },
  {
   "cell_type": "code",
   "execution_count": 2,
   "metadata": {},
   "outputs": [],
   "source": [
    "kmer = 10"
   ]
  },
  {
   "cell_type": "code",
   "execution_count": 7,
   "metadata": {},
   "outputs": [],
   "source": [
    "DNA = \"ACAACACGCAGCTAGATAGCTACGTAGCTAGCATCGACGGCTAGTCGTAGCAGCTA\""
   ]
  },
  {
   "cell_type": "code",
   "execution_count": 8,
   "metadata": {},
   "outputs": [],
   "source": [
    "query = 'AGCTAGATAGCTACGTAGCTA'"
   ]
  },
  {
   "cell_type": "code",
   "execution_count": 3,
   "metadata": {},
   "outputs": [],
   "source": [
    "def contig_kmer(seq, kmer):\n",
    "    s = []\n",
    "    for i in range(len(seq)-kmer +1):\n",
    "        s.append(seq[i:i+kmer])\n",
    "    return s\n",
    "\n",
    "\n",
    "def pool_kmer_set(filename, kmer):\n",
    "    reader = HTSeq.FastaReader(filename)\n",
    "    \n",
    "    pool_kmer = []\n",
    "    for i in reader:\n",
    "        pool_kmer.append(contig_kmer(i.seq.decode(), kmer))\n",
    "        pool_kmer.append(contig_kmer(i.get_reverse_complement().seq.decode(), kmer))\n",
    "\n",
    "    flat_list = [item for sublist in pool_kmer for item in sublist]\n",
    "    \n",
    "    return set(flat_list)\n",
    "\n",
    "    "
   ]
  },
  {
   "cell_type": "code",
   "execution_count": 4,
   "metadata": {},
   "outputs": [],
   "source": [
    "file = pandas.read_csv('../Documents/filename.tab', sep='\\t', header=None)\n",
    "\n",
    "\n",
    "SuperpoolX = {}\n",
    "for i in range(1):\n",
    "    SuperpoolX[i] = pool_kmer_set(file.at[i,0], kmer)\n",
    "\n",
    "SuperpoolY = {}\n",
    "for i in range(1):\n",
    "    SuperpoolY[i] = pool_kmer_set(file.at[i,1], kmer)"
   ]
  },
  {
   "cell_type": "code",
   "execution_count": 5,
   "metadata": {},
   "outputs": [
    {
     "name": "stdout",
     "output_type": "stream",
     "text": [
      "X1\t1.0\n",
      "X1\t1.0\n"
     ]
    }
   ],
   "source": [
    "def query_pool(query_Sequence, pool_kmer):\n",
    "    query_set = set(contig_kmer(query_Sequence.seq.decode(), kmer))\n",
    "\n",
    "    count = 0\n",
    "    for i in query_set:\n",
    "        if i in pool_kmer:\n",
    "            count += 1\n",
    "    return count / len(query_set)\n",
    "\n",
    "\n",
    "x1 = [i for i in HTSeq.FastaReader('../Documents/contigs_ten.fa')][0] # a read in fasta format\n",
    "\n",
    "for i in range(1):\n",
    "    print('X%s\\t' % (i+1) + str(query_pool(x1, SuperpoolX[i])))\n",
    "\n",
    "\n",
    "for i in range(1):\n",
    "    print('X%s\\t' % (i+1) + str(query_pool(x1, SuperpoolY[i])))\n"
   ]
  },
  {
   "cell_type": "code",
   "execution_count": 14,
   "metadata": {},
   "outputs": [],
   "source": []
  },
  {
   "cell_type": "code",
   "execution_count": 2,
   "metadata": {},
   "outputs": [],
   "source": [
    "a = HTSeq.FastaReader('../Downloads/1545554253/1545554253.fasta')"
   ]
  },
  {
   "cell_type": "code",
   "execution_count": 3,
   "metadata": {},
   "outputs": [],
   "source": [
    "a = [i for i in a]"
   ]
  },
  {
   "cell_type": "code",
   "execution_count": 4,
   "metadata": {},
   "outputs": [
    {
     "data": {
      "text/plain": [
       "[<Sequence object 'mito-2-4' (length 6840)>]"
      ]
     },
     "execution_count": 4,
     "metadata": {},
     "output_type": "execute_result"
    }
   ],
   "source": [
    "a"
   ]
  },
  {
   "cell_type": "code",
   "execution_count": 7,
   "metadata": {},
   "outputs": [
    {
     "data": {
      "text/plain": [
       "b'TTTCCCCGCACCAAAAATCTCTGAACCAAATCCACAAACCCAGAGTTTTCCTCACCAAGATGCTCTCTAAGAAAATTACCCAGTAGGTGGTGATCTATCCCTGATCTGCACTCAACGATTGAAAACTTCACCATCCAAGCCATCTCAGGCCATCGGGAAACGCTTGCGAAGAAAGACCTAGCACCCCTCGCTACCCCATACTCTCTGGAATTTAGATGGTATATCGAGTCCATTTCCAAACAAAGCAAGCGGGCCAT'"
      ]
     },
     "execution_count": 7,
     "metadata": {},
     "output_type": "execute_result"
    }
   ],
   "source": [
    "a[0][6564:6821].seq"
   ]
  },
  {
   "cell_type": "code",
   "execution_count": null,
   "metadata": {},
   "outputs": [],
   "source": []
  }
 ],
 "metadata": {
  "kernelspec": {
   "display_name": "Python 3",
   "language": "python",
   "name": "python3"
  },
  "language_info": {
   "codemirror_mode": {
    "name": "ipython",
    "version": 3
   },
   "file_extension": ".py",
   "mimetype": "text/x-python",
   "name": "python",
   "nbconvert_exporter": "python",
   "pygments_lexer": "ipython3",
   "version": "3.6.5"
  }
 },
 "nbformat": 4,
 "nbformat_minor": 2
}
